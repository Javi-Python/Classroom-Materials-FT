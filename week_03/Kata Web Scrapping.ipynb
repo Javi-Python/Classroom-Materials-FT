{
 "cells": [
  {
   "cell_type": "code",
   "execution_count": 2,
   "metadata": {},
   "outputs": [],
   "source": [
    "\n",
    "import re\n",
    "import requests\n",
    "from bs4 import BeautifulSoup"
   ]
  },
  {
   "cell_type": "code",
   "execution_count": 67,
   "metadata": {},
   "outputs": [],
   "source": [
    "username = 'nagaiyoru'\n",
    "user_string = (str(username))\n",
    "url = f'https://www.codewars.com/users/{user_string}'\n",
    "user = 'javielpapi'\n",
    "html = requests.get(url)\n",
    "soup = BeautifulSoup(html.content,\"html.parser\")"
   ]
  },
  {
   "cell_type": "code",
   "execution_count": 70,
   "metadata": {},
   "outputs": [],
   "source": [
    "tag = soup.find_all(\"div\", {\"class\": \"stat-box mt-1 mb-1 md:mb-0\"})"
   ]
  },
  {
   "cell_type": "code",
   "execution_count": 71,
   "metadata": {},
   "outputs": [
    {
     "data": {
      "text/plain": [
       "[<div class=\"stat-box mt-1 mb-1 md:mb-0\"><div class=\"stat\"><b>Name:</b>Unknown</div><div class=\"stat\"><b>Clan:</b>Unknown</div></div>,\n",
       " <div class=\"stat-box mt-1 mb-1 md:mb-0\"><div class=\"stat\"><b>Member Since:</b>Jan 2017</div><div class=\"stat\"><b>Last Seen:</b>Feb 2021</div><div class=\"stat\"><b>Profiles:</b><ul class=\"is-inline\"></ul></div></div>,\n",
       " <div class=\"stat-box mt-1 mb-1 md:mb-0\"><div class=\"stat\"><b>Following:</b>0</div><div class=\"stat\"><b>Followers:</b>3</div><div class=\"stat\"><b>Allies:</b>0</div></div>,\n",
       " <div class=\"stat-box mt-1 mb-1 md:mb-0\"><div class=\"stat\"><b>Rank:</b>1 dan</div><div class=\"stat\"><b>Honor:</b>12,086</div><div class=\"stat\"><b>Leaderboard Position:</b>#277</div><div class=\"stat\"><b>Honor Percentile:</b>Top 0.094%</div><div class=\"stat\"><b>Total Completed Kata:</b>364</div></div>,\n",
       " <div class=\"stat-box mt-1 mb-1 md:mb-0\"><h3><i class=\"icon-moon-terminal\"></i>Languages:</h3><div class=\"ml-5\"><div class=\"stat\"><b>Total Languages Trained:</b>9</div><div class=\"stat\"><b>Highest Trained:</b>Haskell (1 kyu)</div><div class=\"stat\"><b>Most Recent:</b>Python</div></div></div>,\n",
       " <div class=\"stat-box mt-1 mb-1 md:mb-0\"><h3><i class=\"icon-moon-users\"></i>Community:</h3><div class=\"ml-5\"><div class=\"stat\"><b>Comments:</b>2 (0 replies)</div><div class=\"stat\"><b>Collections:</b>0</div><div class=\"stat\"><b>Kumite:</b>1 (1 Started)</div><div class=\"stat\"><b>Translations:</b>0 (0 approved)</div></div></div>]"
      ]
     },
     "execution_count": 71,
     "metadata": {},
     "output_type": "execute_result"
    }
   ],
   "source": [
    "tag"
   ]
  },
  {
   "cell_type": "code",
   "execution_count": 73,
   "metadata": {},
   "outputs": [
    {
     "data": {
      "text/plain": [
       "'Member Since:Jan 2017Last Seen:Feb 2021Profiles:'"
      ]
     },
     "execution_count": 73,
     "metadata": {},
     "output_type": "execute_result"
    }
   ],
   "source": [
    "member_since = tag[1].getText()\n",
    "member_since"
   ]
  },
  {
   "cell_type": "code",
   "execution_count": 65,
   "metadata": {
    "scrolled": true
   },
   "outputs": [],
   "source": [
    "regex = r'[a-zA-Z]+\\s[0-9]+'"
   ]
  },
  {
   "cell_type": "code",
   "execution_count": 78,
   "metadata": {},
   "outputs": [
    {
     "data": {
      "text/plain": [
       "'Jan 2017'"
      ]
     },
     "execution_count": 78,
     "metadata": {},
     "output_type": "execute_result"
    }
   ],
   "source": [
    "re.findall(regex, member_since)[0]"
   ]
  },
  {
   "cell_type": "code",
   "execution_count": 44,
   "metadata": {},
   "outputs": [],
   "source": [
    "def f(username):\n",
    "    user_string = (str(username))\n",
    "    url = f'https://www.codewars.com/users/{user_string}'\n",
    "    html = requests.get(url)\n",
    "    soup = BeautifulSoup(html.content,\"html.parser\")\n",
    "    tag = soup.find_all(\"div\", {\"class\": \"stat\"})\n",
    "    member_since = tag[2].getText()\n",
    "    regex = r'[a-zA-Z]+\\s[0-9]+'\n",
    "    date = re.findall(regex, member_since)\n",
    "    return date"
   ]
  },
  {
   "cell_type": "code",
   "execution_count": 45,
   "metadata": {},
   "outputs": [
    {
     "data": {
      "text/plain": [
       "['Mar 2021']"
      ]
     },
     "execution_count": 45,
     "metadata": {},
     "output_type": "execute_result"
    }
   ],
   "source": [
    "f('javielpapi')"
   ]
  },
  {
   "cell_type": "code",
   "execution_count": null,
   "metadata": {},
   "outputs": [],
   "source": []
  }
 ],
 "metadata": {
  "kernelspec": {
   "display_name": "Python 3",
   "language": "python",
   "name": "python3"
  },
  "language_info": {
   "codemirror_mode": {
    "name": "ipython",
    "version": 3
   },
   "file_extension": ".py",
   "mimetype": "text/x-python",
   "name": "python",
   "nbconvert_exporter": "python",
   "pygments_lexer": "ipython3",
   "version": "3.8.5"
  }
 },
 "nbformat": 4,
 "nbformat_minor": 4
}
