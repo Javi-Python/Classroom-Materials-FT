{
 "cells": [
  {
   "cell_type": "markdown",
   "metadata": {},
   "source": [
    "# Geoqueries en Mongo"
   ]
  },
  {
   "cell_type": "markdown",
   "metadata": {
    "toc": true
   },
   "source": [
    "<h1>Table of Contents<span class=\"tocSkip\"></span></h1>\n",
    "<div class=\"toc\"><ul class=\"toc-item\"><li><span><a href=\"#¿Qué-podemos-hacer-con-las-geoqueries?\" data-toc-modified-id=\"¿Qué-podemos-hacer-con-las-geoqueries?-1\"><span class=\"toc-item-num\">1&nbsp;&nbsp;</span>¿Qué podemos hacer con las geoqueries?</a></span></li><li><span><a href=\"#Generamos-la-conexión-con-Mongo\" data-toc-modified-id=\"Generamos-la-conexión-con-Mongo-2\"><span class=\"toc-item-num\">2&nbsp;&nbsp;</span>Generamos la conexión con Mongo</a></span></li><li><span><a href=\"#Importar-colecciones\" data-toc-modified-id=\"Importar-colecciones-3\"><span class=\"toc-item-num\">3&nbsp;&nbsp;</span>Importar colecciones</a></span></li><li><span><a href=\"#Crear-indexes\" data-toc-modified-id=\"Crear-indexes-4\"><span class=\"toc-item-num\">4&nbsp;&nbsp;</span>Crear indexes</a></span></li><li><span><a href=\"#Generamos-lasconexionescon-la-base-de-datos\" data-toc-modified-id=\"Generamos-lasconexionescon-la-base-de-datos-5\"><span class=\"toc-item-num\">5&nbsp;&nbsp;</span>Generamos lasconexionescon la base de datos</a></span></li><li><span><a href=\"#Empezamos-con-las-Geoqueries\" data-toc-modified-id=\"Empezamos-con-las-Geoqueries-6\"><span class=\"toc-item-num\">6&nbsp;&nbsp;</span>Empezamos con las Geoqueries</a></span></li><li><span><a href=\"#Intersects\" data-toc-modified-id=\"Intersects-7\"><span class=\"toc-item-num\">7&nbsp;&nbsp;</span>Intersects</a></span></li><li><span><a href=\"#GeoWithin\" data-toc-modified-id=\"GeoWithin-8\"><span class=\"toc-item-num\">8&nbsp;&nbsp;</span>GeoWithin</a></span></li><li><span><a href=\"#Near\" data-toc-modified-id=\"Near-9\"><span class=\"toc-item-num\">9&nbsp;&nbsp;</span>Near</a></span><ul class=\"toc-item\"><li><ul class=\"toc-item\"><li><ul class=\"toc-item\"><li><span><a href=\"#Extra--->-Revisad-$geoNear\" data-toc-modified-id=\"Extra--->-Revisad-$geoNear-9.0.0.1\"><span class=\"toc-item-num\">9.0.0.1&nbsp;&nbsp;</span>Extra --&gt; Revisad $geoNear</a></span></li></ul></li></ul></li></ul></li><li><span><a href=\"#Extra,-extra!!-mis-datos-extraídos-de-Foursquare-en-Mongo\" data-toc-modified-id=\"Extra,-extra!!-mis-datos-extraídos-de-Foursquare-en-Mongo-10\"><span class=\"toc-item-num\">10&nbsp;&nbsp;</span>Extra, extra!! mis datos extraídos de Foursquare en Mongo</a></span><ul class=\"toc-item\"><li><span><a href=\"#Voy-a-traerme-todas-las-fruterías-de-Madrid\" data-toc-modified-id=\"Voy-a-traerme-todas-las-fruterías-de-Madrid-10.1\"><span class=\"toc-item-num\">10.1&nbsp;&nbsp;</span>Voy a traerme todas las fruterías de Madrid</a></span></li></ul></li><li><span><a href=\"#Vamos-a-buscar-a-cuántos-km-están-las-fruterías-de-mi-casa\" data-toc-modified-id=\"Vamos-a-buscar-a-cuántos-km-están-las-fruterías-de-mi-casa-11\"><span class=\"toc-item-num\">11&nbsp;&nbsp;</span>Vamos a buscar a cuántos km están las fruterías de mi casa</a></span></li></ul></div>"
   ]
  },
  {
   "cell_type": "markdown",
   "metadata": {},
   "source": [
    "## ¿Qué podemos hacer con las geoqueries?\n",
    "Con las geoquerías podemos responder a preguntas como las siguientes\n",
    " * ¿Dónde están las farmacias más cercanas a mi ubicación?\n",
    " * ¿Qué restaurantes hay en esta poligonal?"
   ]
  },
  {
   "cell_type": "markdown",
   "metadata": {},
   "source": [
    "Cada punto de la Tierra se caracteriza por dos números:\n",
    " * Longitud: ángulo respecto al meridiano de Greenwich. Va de -180° (antiGreenwich) a +180° (también antiGreenwich)\n",
    " * Latitud: ángulo con respecto al ecuador. Va de -90° (sur) a +90° (norte)"
   ]
  },
  {
   "cell_type": "markdown",
   "metadata": {},
   "source": [
    "![latierra](../images/latlon.gif)"
   ]
  },
  {
   "cell_type": "markdown",
   "metadata": {},
   "source": [
    "## Generamos la conexión con Mongo"
   ]
  },
  {
   "cell_type": "code",
   "execution_count": 1,
   "metadata": {},
   "outputs": [],
   "source": [
    "from pymongo import MongoClient\n",
    "conn = MongoClient(\"localhost:27017\")\n",
    "db = conn.get_database(\"ironhack\")"
   ]
  },
  {
   "cell_type": "markdown",
   "metadata": {},
   "source": [
    "## Importar colecciones     \n",
    "Sigamos la documentación oficial de Mongo: [Mongo Geo Example](https://docs.mongodb.com/manual/tutorial/geospatial-tutorial/)\n",
    "Creamos estas dos colecciones nuevas:\n",
    " * `restaurants2`\n",
    " * `neighborhoods`"
   ]
  },
  {
   "cell_type": "markdown",
   "metadata": {},
   "source": [
    "## Crear indexes\n",
    "La indexación geoespacial de MongoDB permite   \n",
    "ejecutar eficientemente **consultas espaciales** sobre una colección que contiene formas y puntos geoespaciales.\n",
    "Vamos a crear un índice geográfico para que Mongo sepa que queremos hacer geo-consultas en esta colección.  \n",
    "Esto sólo debe hacerse una vez, y ahora la colección de Mongo está correctamente indexada para siempre."
   ]
  },
  {
   "cell_type": "code",
   "execution_count": 2,
   "metadata": {},
   "outputs": [],
   "source": [
    "from pymongo import GEOSPHERE"
   ]
  },
  {
   "cell_type": "code",
   "execution_count": 3,
   "metadata": {},
   "outputs": [
    {
     "data": {
      "text/plain": [
       "'location_2dsphere'"
      ]
     },
     "execution_count": 3,
     "metadata": {},
     "output_type": "execute_result"
    }
   ],
   "source": [
    "# Creamos el  index 2dsphere desde pymongo\n",
    "db.restaurants2.create_index([(\"location\", GEOSPHERE)])"
   ]
  },
  {
   "cell_type": "code",
   "execution_count": 4,
   "metadata": {},
   "outputs": [],
   "source": [
    "db.restaurants2.find_one({})"
   ]
  },
  {
   "cell_type": "markdown",
   "metadata": {},
   "source": [
    "Es importante indicarle el campo donde  tenemo tanto el tipo de elemento (polígonos o  puntos (point)) como las coordenadas."
   ]
  },
  {
   "cell_type": "code",
   "execution_count": 5,
   "metadata": {},
   "outputs": [
    {
     "data": {
      "text/plain": [
       "'geometry_2dsphere'"
      ]
     },
     "execution_count": 5,
     "metadata": {},
     "output_type": "execute_result"
    }
   ],
   "source": [
    "db.neighborhoods.create_index([(\"geometry\", GEOSPHERE)])"
   ]
  },
  {
   "cell_type": "code",
   "execution_count": 6,
   "metadata": {},
   "outputs": [],
   "source": [
    "#db.neighborhoods.find_one({})"
   ]
  },
  {
   "cell_type": "markdown",
   "metadata": {},
   "source": [
    "## Generamos lasconexionescon la base de datos"
   ]
  },
  {
   "cell_type": "code",
   "execution_count": 7,
   "metadata": {},
   "outputs": [],
   "source": [
    "n = db.get_collection(\"neighborhoods\")\n",
    "r = db.get_collection(\"restaurants2\")"
   ]
  },
  {
   "cell_type": "markdown",
   "metadata": {},
   "source": [
    "## Empezamos con las Geoqueries   \n",
    "¿En qué barrio estoy?      \n",
    "¿Qué elementos **intersecan** el elemento dado?"
   ]
  },
  {
   "cell_type": "markdown",
   "metadata": {},
   "source": [
    "## Intersects"
   ]
  },
  {
   "cell_type": "markdown",
   "metadata": {},
   "source": [
    "Necesitamos tener los datos  con tipo polígono en este caso tenemos una colección con barrios donde cada barrio  tiene dentro  el polígono que lo delimita. Y cada barrio es un documento, por eso cuando  intersecta me devuelve el documento y yo veo  que es el barrio  en concreto."
   ]
  },
  {
   "cell_type": "code",
   "execution_count": 8,
   "metadata": {},
   "outputs": [],
   "source": [
    "coordenadas = [-73.93, 40.82]"
   ]
  },
  {
   "cell_type": "code",
   "execution_count": 9,
   "metadata": {},
   "outputs": [],
   "source": [
    "coord_buscar = {\"type\":\"Point\", \"coordinates\": coordenadas}"
   ]
  },
  {
   "cell_type": "code",
   "execution_count": 10,
   "metadata": {},
   "outputs": [],
   "source": [
    "proj = {\"_id\":0, \"name\": 1}"
   ]
  },
  {
   "cell_type": "code",
   "execution_count": 11,
   "metadata": {},
   "outputs": [
    {
     "ename": "AttributeError",
     "evalue": "'NoneType' object has no attribute 'keys'",
     "output_type": "error",
     "traceback": [
      "\u001b[0;31m---------------------------------------------------------------------------\u001b[0m",
      "\u001b[0;31mAttributeError\u001b[0m                            Traceback (most recent call last)",
      "\u001b[0;32m<ipython-input-11-0ae771e72d47>\u001b[0m in \u001b[0;36m<module>\u001b[0;34m\u001b[0m\n\u001b[0;32m----> 1\u001b[0;31m \u001b[0mn\u001b[0m\u001b[0;34m.\u001b[0m\u001b[0mfind_one\u001b[0m\u001b[0;34m(\u001b[0m\u001b[0;34m)\u001b[0m\u001b[0;34m.\u001b[0m\u001b[0mkeys\u001b[0m\u001b[0;34m(\u001b[0m\u001b[0;34m)\u001b[0m\u001b[0;34m\u001b[0m\u001b[0;34m\u001b[0m\u001b[0m\n\u001b[0m",
      "\u001b[0;31mAttributeError\u001b[0m: 'NoneType' object has no attribute 'keys'"
     ]
    }
   ],
   "source": [
    "n.find_one().keys()"
   ]
  },
  {
   "cell_type": "code",
   "execution_count": null,
   "metadata": {},
   "outputs": [],
   "source": [
    "n.find_one({\"geometry\": {\"$geoIntersects\": {\"$geometry\":coord_buscar}}},proj)"
   ]
  },
  {
   "cell_type": "markdown",
   "metadata": {},
   "source": [
    "## GeoWithin"
   ]
  },
  {
   "cell_type": "markdown",
   "metadata": {},
   "source": [
    "¿Qué elementos están **contenidos** en el elemento dado?     \n",
    "¿Qué restaurantes hay en este barrio (polígono)?"
   ]
  },
  {
   "cell_type": "code",
   "execution_count": null,
   "metadata": {},
   "outputs": [],
   "source": [
    "# Vemos la estructura de los documentos sacando uno y viendo sus keys\n",
    "n.find_one({}).keys()"
   ]
  },
  {
   "cell_type": "code",
   "execution_count": null,
   "metadata": {},
   "outputs": [],
   "source": [
    "#bUSCAMOS UN barrio en  concreto\n",
    "barrio = n.find_one({\"name\": \"West Concourse\"})\n",
    "#barrio"
   ]
  },
  {
   "cell_type": "code",
   "execution_count": null,
   "metadata": {},
   "outputs": [],
   "source": [
    "#Extraigo las coordenadas\n",
    "geo = barrio.get(\"geometry\")\n",
    "#geo"
   ]
  },
  {
   "cell_type": "code",
   "execution_count": null,
   "metadata": {},
   "outputs": [],
   "source": [
    "#Saco las keys de un documento d e la coleccción  de restaurantes\n",
    "r.find_one({}).keys()"
   ]
  },
  {
   "cell_type": "code",
   "execution_count": null,
   "metadata": {},
   "outputs": [],
   "source": [
    "query = r.find({\"location\": {\"$geoWithin\": {\"$geometry\": geo}}})"
   ]
  },
  {
   "cell_type": "code",
   "execution_count": null,
   "metadata": {},
   "outputs": [],
   "source": [
    "# ER FIRTRO\n",
    "filtro = {\"location\": {\"$geoWithin\": {\"$geometry\": geo}}}"
   ]
  },
  {
   "cell_type": "code",
   "execution_count": null,
   "metadata": {},
   "outputs": [],
   "source": [
    "import pandas as pd\n",
    "df = pd.DataFrame(list(query))\n",
    "df.head()"
   ]
  },
  {
   "cell_type": "markdown",
   "metadata": {},
   "source": [
    "## Near"
   ]
  },
  {
   "cell_type": "markdown",
   "metadata": {},
   "source": [
    "¿Qué elementos se encuentran a una distancia de una geometría determinada?     \n",
    "`$nearSphere`/`$near` y `$maxDistance` nos ayudan a encontrar todos los elementos dentro de `maxDistance` metros de la geometría deseada, **ordenados** de más cercano a más lejano."
   ]
  },
  {
   "cell_type": "code",
   "execution_count": null,
   "metadata": {},
   "outputs": [],
   "source": [
    "#  Mi posición, voy a buscar restaurantes cercanos a  ESTE punto\n",
    "coordenadas2 = [-73.93, 40.82]\n",
    "coord_point = {\"type\":\"Point\", \"coordinates\": coordenadas2}"
   ]
  },
  {
   "cell_type": "code",
   "execution_count": null,
   "metadata": {},
   "outputs": [],
   "source": [
    "# Km que quiero  caminar\n",
    "metros = 3000"
   ]
  },
  {
   "cell_type": "code",
   "execution_count": null,
   "metadata": {},
   "outputs": [],
   "source": [
    "query = {\"location\": {\"$near\": {\"$geometry\": coord_point,\"$minDistance\": 500  , \"$maxDistance\": metros}}}"
   ]
  },
  {
   "cell_type": "code",
   "execution_count": null,
   "metadata": {},
   "outputs": [],
   "source": [
    "query_final = r.find(query,proj)"
   ]
  },
  {
   "cell_type": "code",
   "execution_count": null,
   "metadata": {},
   "outputs": [],
   "source": [
    "df = pd.DataFrame(list(query_final))"
   ]
  },
  {
   "cell_type": "code",
   "execution_count": null,
   "metadata": {},
   "outputs": [],
   "source": [
    "df.head()"
   ]
  },
  {
   "cell_type": "markdown",
   "metadata": {},
   "source": [
    "##### Extra --> Revisad $geoNear \n",
    "https://docs.mongodb.com/manual/reference/operator/aggregation/geoNear/"
   ]
  },
  {
   "cell_type": "markdown",
   "metadata": {},
   "source": [
    "## Extra, extra!! mis datos extraídos de Foursquare en Mongo"
   ]
  },
  {
   "cell_type": "markdown",
   "metadata": {},
   "source": [
    "### Voy a traerme todas las fruterías de Madrid"
   ]
  },
  {
   "cell_type": "code",
   "execution_count": 13,
   "metadata": {},
   "outputs": [
    {
     "data": {
      "text/plain": [
       "True"
      ]
     },
     "execution_count": 13,
     "metadata": {},
     "output_type": "execute_result"
    }
   ],
   "source": [
    "import requests\n",
    "import json\n",
    "from dotenv import load_dotenv\n",
    "import os\n",
    "import pandas as pd\n",
    "load_dotenv()"
   ]
  },
  {
   "cell_type": "code",
   "execution_count": 14,
   "metadata": {},
   "outputs": [],
   "source": [
    "tok1= os.getenv(\"tok1\")\n",
    "tok2= os.getenv(\"tok2\")"
   ]
  },
  {
   "cell_type": "code",
   "execution_count": 16,
   "metadata": {},
   "outputs": [],
   "source": [
    "madrid = {'type': 'Point', 'coordinates': [40.42955,-3.6793]}"
   ]
  },
  {
   "cell_type": "code",
   "execution_count": 17,
   "metadata": {},
   "outputs": [],
   "source": [
    "url_query = 'https://api.foursquare.com/v2/venues/explore'"
   ]
  },
  {
   "cell_type": "code",
   "execution_count": 18,
   "metadata": {},
   "outputs": [],
   "source": [
    "parametros = {\n",
    "    \"client_id\": tok1,\n",
    "    \"client_secret\": tok2,\n",
    "    \"v\": \"20180323\",\n",
    "    \"ll\": f\"{madrid.get('coordinates')[0]},{madrid.get('coordinates')[1]}\",\n",
    "    \"query\": \"frutería\", \n",
    "    \"limit\": 100    \n",
    "}"
   ]
  },
  {
   "cell_type": "code",
   "execution_count": null,
   "metadata": {},
   "outputs": [],
   "source": [
    "resp = requests.get(url= url_query, params = parametros).json()"
   ]
  },
  {
   "cell_type": "code",
   "execution_count": null,
   "metadata": {},
   "outputs": [],
   "source": [
    "#resp"
   ]
  },
  {
   "cell_type": "code",
   "execution_count": null,
   "metadata": {},
   "outputs": [],
   "source": [
    "data = resp.get(\"response\").get(\"groups\")[0].get(\"items\")"
   ]
  },
  {
   "cell_type": "code",
   "execution_count": null,
   "metadata": {},
   "outputs": [],
   "source": [
    "from functools import reduce\n",
    "import operator"
   ]
  },
  {
   "cell_type": "code",
   "execution_count": null,
   "metadata": {},
   "outputs": [],
   "source": [
    "# Mis fuentes --stackoverflow\n",
    "def getFromDict(diccionario,mapa):\n",
    "    return reduce(operator.getitem,mapa,diccionario)"
   ]
  },
  {
   "cell_type": "code",
   "execution_count": null,
   "metadata": {},
   "outputs": [],
   "source": [
    "mapa_nombre =  [\"venue\", \"name\"]\n",
    "mapa_latitud = [\"venue\", \"location\", \"lat\"]\n",
    "mapa_longitud = [\"venue\", \"location\", \"lng\"]"
   ]
  },
  {
   "cell_type": "code",
   "execution_count": null,
   "metadata": {},
   "outputs": [],
   "source": [
    "lista_frutas = []\n",
    "for dic in data:\n",
    "    paralista = {}\n",
    "    paralista[\"name\"] = getFromDict(dic, mapa_nombre)\n",
    "    paralista[\"latitud\"]= getFromDict(dic, mapa_latitud)\n",
    "    paralista[\"longitud\"] = getFromDict(dic,mapa_longitud)\n",
    "    lista_frutas.append(paralista)"
   ]
  },
  {
   "cell_type": "code",
   "execution_count": null,
   "metadata": {},
   "outputs": [],
   "source": [
    "df = pd.DataFrame(lista_frutas)\n",
    "df.head()"
   ]
  },
  {
   "cell_type": "markdown",
   "metadata": {},
   "source": [
    "Vamos a manipular los datos para tener esta misma estructura en tipo point y poder hacer un index en Mongo para realizar geoqueries"
   ]
  },
  {
   "cell_type": "code",
   "execution_count": null,
   "metadata": {},
   "outputs": [],
   "source": [
    "lista_frutas[0]"
   ]
  },
  {
   "cell_type": "code",
   "execution_count": null,
   "metadata": {},
   "outputs": [],
   "source": [
    "documentos = []\n",
    "for diccionario in lista_frutas:\n",
    "    temporal = {\n",
    "        \"name\": diccionario.get(\"name\"),\n",
    "        \"location\": {\"type\": \"Point\", \"coordinates\": [diccionario.get(\"latitud\"), diccionario.get(\"longitud\")]}\n",
    "        \n",
    "    }\n",
    "    documentos.append(temporal)"
   ]
  },
  {
   "cell_type": "code",
   "execution_count": null,
   "metadata": {},
   "outputs": [],
   "source": [
    "documentos[0]"
   ]
  },
  {
   "cell_type": "code",
   "execution_count": 20,
   "metadata": {},
   "outputs": [
    {
     "ename": "NameError",
     "evalue": "name 'documentos' is not defined",
     "output_type": "error",
     "traceback": [
      "\u001b[0;31m---------------------------------------------------------------------------\u001b[0m",
      "\u001b[0;31mNameError\u001b[0m                                 Traceback (most recent call last)",
      "\u001b[0;32m<ipython-input-20-b85cc9469322>\u001b[0m in \u001b[0;36m<module>\u001b[0;34m\u001b[0m\n\u001b[0;32m----> 1\u001b[0;31m \u001b[0mdf\u001b[0m \u001b[0;34m=\u001b[0m \u001b[0mpd\u001b[0m\u001b[0;34m.\u001b[0m\u001b[0mDataFrame\u001b[0m\u001b[0;34m(\u001b[0m\u001b[0mdocumentos\u001b[0m\u001b[0;34m)\u001b[0m\u001b[0;34m\u001b[0m\u001b[0;34m\u001b[0m\u001b[0m\n\u001b[0m\u001b[1;32m      2\u001b[0m \u001b[0mdf\u001b[0m\u001b[0;34m.\u001b[0m\u001b[0mhead\u001b[0m\u001b[0;34m(\u001b[0m\u001b[0;34m)\u001b[0m\u001b[0;34m\u001b[0m\u001b[0;34m\u001b[0m\u001b[0m\n",
      "\u001b[0;31mNameError\u001b[0m: name 'documentos' is not defined"
     ]
    }
   ],
   "source": [
    "df = pd.DataFrame(documentos)\n",
    "df.head()"
   ]
  },
  {
   "cell_type": "code",
   "execution_count": 19,
   "metadata": {},
   "outputs": [
    {
     "ename": "NameError",
     "evalue": "name 'df' is not defined",
     "output_type": "error",
     "traceback": [
      "\u001b[0;31m---------------------------------------------------------------------------\u001b[0m",
      "\u001b[0;31mNameError\u001b[0m                                 Traceback (most recent call last)",
      "\u001b[0;32m<ipython-input-19-203f7bd56b22>\u001b[0m in \u001b[0;36m<module>\u001b[0;34m\u001b[0m\n\u001b[0;32m----> 1\u001b[0;31m \u001b[0mdf\u001b[0m\u001b[0;34m.\u001b[0m\u001b[0mto_json\u001b[0m\u001b[0;34m(\u001b[0m\u001b[0;34m\"lasfruterias.json\"\u001b[0m\u001b[0;34m,\u001b[0m \u001b[0morient\u001b[0m\u001b[0;34m=\u001b[0m\u001b[0;34m\"records\"\u001b[0m\u001b[0;34m)\u001b[0m\u001b[0;34m\u001b[0m\u001b[0;34m\u001b[0m\u001b[0m\n\u001b[0m",
      "\u001b[0;31mNameError\u001b[0m: name 'df' is not defined"
     ]
    }
   ],
   "source": [
    "df.to_json(\"lasfruterias.json\", orient=\"records\")"
   ]
  },
  {
   "cell_type": "markdown",
   "metadata": {},
   "source": [
    "## Vamos a buscar a cuántos km están las fruterías de mi casa"
   ]
  },
  {
   "cell_type": "code",
   "execution_count": null,
   "metadata": {},
   "outputs": [],
   "source": [
    "fruterias = db.get_collection(\"misfruterias\")\n",
    "fruterias.create_index([(\"geometry\", GEOSPHERE)])"
   ]
  },
  {
   "cell_type": "code",
   "execution_count": null,
   "metadata": {},
   "outputs": [],
   "source": [
    "fruterias.find_one({})"
   ]
  },
  {
   "cell_type": "code",
   "execution_count": null,
   "metadata": {},
   "outputs": [],
   "source": []
  },
  {
   "cell_type": "code",
   "execution_count": null,
   "metadata": {},
   "outputs": [],
   "source": [
    "lavapi = [40.408808, -3.7034796]\n",
    "lavapi_point = {\"type\": \"Point\",  \"coordinates\": lavapi}"
   ]
  },
  {
   "cell_type": "code",
   "execution_count": null,
   "metadata": {},
   "outputs": [],
   "source": [
    "lavapi_point"
   ]
  },
  {
   "cell_type": "code",
   "execution_count": null,
   "metadata": {},
   "outputs": [],
   "source": [
    "consulta = {\"location\": {\"$near\": {\"$geometry\": lavapi_point, \"$maxDistance\": 2000}}}"
   ]
  },
  {
   "cell_type": "code",
   "execution_count": null,
   "metadata": {},
   "outputs": [],
   "source": [
    "fru = list(fruterias.find(consulta))"
   ]
  },
  {
   "cell_type": "code",
   "execution_count": null,
   "metadata": {},
   "outputs": [],
   "source": [
    "df = pd.DataFrame(fru)\n",
    "df.head()"
   ]
  }
 ],
 "metadata": {
  "kernelspec": {
   "display_name": "Python 3",
   "language": "python",
   "name": "python3"
  },
  "language_info": {
   "codemirror_mode": {
    "name": "ipython",
    "version": 3
   },
   "file_extension": ".py",
   "mimetype": "text/x-python",
   "name": "python",
   "nbconvert_exporter": "python",
   "pygments_lexer": "ipython3",
   "version": "3.8.5"
  },
  "toc": {
   "base_numbering": 1,
   "nav_menu": {},
   "number_sections": true,
   "sideBar": true,
   "skip_h1_title": true,
   "title_cell": "Table of Contents",
   "title_sidebar": "Contents",
   "toc_cell": true,
   "toc_position": {
    "height": "calc(100% - 180px)",
    "left": "10px",
    "top": "150px",
    "width": "288px"
   },
   "toc_section_display": true,
   "toc_window_display": true
  }
 },
 "nbformat": 4,
 "nbformat_minor": 5
}
