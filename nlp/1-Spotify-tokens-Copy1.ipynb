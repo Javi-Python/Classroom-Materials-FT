{
 "cells": [
  {
   "cell_type": "markdown",
   "metadata": {},
   "source": [
    "![datamad0121](img/datamad0121.png)"
   ]
  },
  {
   "cell_type": "markdown",
   "metadata": {},
   "source": [
    " # <center> 1st goal: obtain Spotify token to make use their API </center>"
   ]
  },
  {
   "cell_type": "markdown",
   "metadata": {},
   "source": [
    "## 0. Importing"
   ]
  },
  {
   "cell_type": "code",
   "execution_count": 1,
   "metadata": {},
   "outputs": [
    {
     "data": {
      "text/plain": [
       "True"
      ]
     },
     "execution_count": 1,
     "metadata": {},
     "output_type": "execute_result"
    }
   ],
   "source": [
    "import os\n",
    "import json\n",
    "import requests\n",
    "from dotenv import load_dotenv\n",
    "load_dotenv()"
   ]
  },
  {
   "cell_type": "markdown",
   "metadata": {},
   "source": [
    "## 1. Go to the Spotify API site"
   ]
  },
  {
   "cell_type": "markdown",
   "metadata": {},
   "source": [
    "https://developer.spotify.com/dashboard/applications"
   ]
  },
  {
   "cell_type": "markdown",
   "metadata": {},
   "source": [
    "### 2. Get CLIENT_ID & CLIENT_SECRET "
   ]
  },
  {
   "cell_type": "markdown",
   "metadata": {},
   "source": [
    "Save them in a `.env` file"
   ]
  },
  {
   "cell_type": "code",
   "execution_count": 2,
   "metadata": {},
   "outputs": [],
   "source": [
    "CLIENT_ID=\"167359e28cdf42059183c08ea070ed2b\"\n",
    "CLIENT_SECRET=\"740e2cf71ebc44f0bcc5491bdf273f16\""
   ]
  },
  {
   "cell_type": "code",
   "execution_count": 3,
   "metadata": {},
   "outputs": [],
   "source": [
    "!touch .env"
   ]
  },
  {
   "cell_type": "code",
   "execution_count": 4,
   "metadata": {},
   "outputs": [
    {
     "name": "stdout",
     "output_type": "stream",
     "text": [
      "Requirement already satisfied: tree in /Users/javiercabrera/opt/anaconda3/lib/python3.8/site-packages (0.2.4)\n",
      "Requirement already satisfied: click in /Users/javiercabrera/opt/anaconda3/lib/python3.8/site-packages (from tree) (7.1.2)\n",
      "Requirement already satisfied: Pillow in /Users/javiercabrera/opt/anaconda3/lib/python3.8/site-packages (from tree) (8.0.1)\n",
      "Requirement already satisfied: svgwrite in /Users/javiercabrera/opt/anaconda3/lib/python3.8/site-packages (from tree) (1.4.1)\n",
      "Requirement already satisfied: setuptools in /Users/javiercabrera/opt/anaconda3/lib/python3.8/site-packages (from tree) (50.3.1.post20201107)\n",
      "\u001b[33mWARNING: You are using pip version 21.0.1; however, version 21.1 is available.\n",
      "You should consider upgrading via the '/Users/javiercabrera/opt/anaconda3/bin/python -m pip install --upgrade pip' command.\u001b[0m\n"
     ]
    }
   ],
   "source": [
    "!pip install tree\n"
   ]
  },
  {
   "cell_type": "code",
   "execution_count": 11,
   "metadata": {},
   "outputs": [
    {
     "name": "stdout",
     "output_type": "stream",
     "text": [
      "CLIENT_ID=167359e28cdf42059183c08ea070ed2b\r\n",
      "CLIENT_SECRET=740e2cf71ebc44f0bcc5491bdf273f16token=BQAB91_N86FfsS8W-h0hectPGWQMp892rPeZsuIuZ_-oMAmAnLpC9x2VH6W4Sc3MD-wLYwv4p88KhzHDIdw"
     ]
    }
   ],
   "source": [
    "!cat .env\n"
   ]
  },
  {
   "cell_type": "code",
   "execution_count": 6,
   "metadata": {},
   "outputs": [],
   "source": [
    "file = open(\".env\", \"a\")\n",
    "file.write(f\"CLIENT_ID={CLIENT_ID}\\n\")\n",
    "file.write(f\"CLIENT_SECRET={CLIENT_SECRET}\\n\")\n",
    "file.close()"
   ]
  },
  {
   "cell_type": "markdown",
   "metadata": {},
   "source": [
    "### 3. GET TOKENS"
   ]
  },
  {
   "cell_type": "code",
   "execution_count": 7,
   "metadata": {},
   "outputs": [],
   "source": [
    "def spotifyToken():\n",
    "    '''This function makes a request to Spotify to get a token'''\n",
    "    \n",
    "    #Authentication\n",
    "\n",
    "    CLIENT_ID = os.getenv(\"CLIENT_ID\")\n",
    "    CLIENT_SECRET = os.getenv(\"CLIENT_SECRET\")\n",
    "    \n",
    "    #Scope\n",
    "    grant_type = 'client_credentials'\n",
    "    body_params = {'grant_type' : grant_type}\n",
    "    \n",
    "    #Where to ask for the token\n",
    "    url='https://accounts.spotify.com/api/token'\n",
    "    \n",
    "    #The request\n",
    "    response = requests.post(url, data=body_params, auth = (CLIENT_ID, CLIENT_SECRET)) \n",
    "    \n",
    "    #The token\n",
    "    token_raw = json.loads(response.text)\n",
    "    try:\n",
    "        token = token_raw['access_token']\n",
    "        return token\n",
    "    except:\n",
    "        return token_raw"
   ]
  },
  {
   "cell_type": "code",
   "execution_count": 8,
   "metadata": {},
   "outputs": [
    {
     "data": {
      "text/plain": [
       "'BQAB91_N86FfsS8W-h0hectPGWQMp892rPeZsuIuZ_-oMAmAnLpC9x2VH6W4Sc3MD-wLYwv4p88KhzHDIdw'"
      ]
     },
     "execution_count": 8,
     "metadata": {},
     "output_type": "execute_result"
    }
   ],
   "source": [
    "#gets token that expires each day with previous keys\n",
    "spoty = spotifyToken()\n",
    "spoty\n"
   ]
  },
  {
   "cell_type": "markdown",
   "metadata": {},
   "source": [
    "## 4. Save token in the .env file"
   ]
  },
  {
   "cell_type": "code",
   "execution_count": 15,
   "metadata": {},
   "outputs": [],
   "source": [
    "file = open(\".env\", \"a\")\n",
    "file.write(f\"\\ntoken={spoty}\")\n",
    "file.close()"
   ]
  },
  {
   "cell_type": "code",
   "execution_count": 17,
   "metadata": {},
   "outputs": [
    {
     "name": "stdout",
     "output_type": "stream",
     "text": [
      "CLIENT_ID=167359e28cdf42059183c08ea070ed2b\r\n",
      "CLIENT_SECRET=740e2cf71ebc44f0bcc5491bdf273f16token=BQAB91_N86FfsS8W-h0hectPGWQMp892rPeZsuIuZ_-oMAmAnLpC9x2VH6W4Sc3MD-wLYwv4p88KhzHDIdw/ntoken=BQAB91_N86FfsS8W-h0hectPGWQMp892rPeZsuIuZ_-oMAmAnLpC9x2VH6W4Sc3MD-wLYwv4p88KhzHDIdw\r\n",
      " token=BQAB91_N86FfsS8W-h0hectPGWQMp892rPeZsuIuZ_-oMAmAnLpC9x2VH6W4Sc3MD-wLYwv4p88KhzHDIdw"
     ]
    }
   ],
   "source": [
    "!cat .env\n"
   ]
  },
  {
   "cell_type": "markdown",
   "metadata": {},
   "source": [
    "# 📚 So far:\n",
    "\n",
    "**What we did**\n",
    "- 1. We got our spotify auth\n",
    "- 2. With that, we then got our spotify `token`\n",
    "- 3. We saved the`token` in the .env <br>\n",
    "<br>\n",
    "\n",
    "**To remember**\n",
    "\n",
    "- **CLIENT_ID** & **CLIENT_SECRET** is just a mean to get the `token`, not the auth itself\n",
    "- The `token`expires"
   ]
  }
 ],
 "metadata": {
  "kernelspec": {
   "display_name": "Python 3",
   "language": "python",
   "name": "python3"
  },
  "language_info": {
   "codemirror_mode": {
    "name": "ipython",
    "version": 3
   },
   "file_extension": ".py",
   "mimetype": "text/x-python",
   "name": "python",
   "nbconvert_exporter": "python",
   "pygments_lexer": "ipython3",
   "version": "3.8.5"
  }
 },
 "nbformat": 4,
 "nbformat_minor": 5
}
